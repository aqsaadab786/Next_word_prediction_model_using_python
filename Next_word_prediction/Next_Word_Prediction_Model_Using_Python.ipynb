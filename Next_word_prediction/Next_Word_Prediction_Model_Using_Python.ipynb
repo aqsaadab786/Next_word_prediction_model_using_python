{
 "cells": [
  {
   "cell_type": "markdown",
   "id": "79269afa",
   "metadata": {},
   "source": [
    "Next Word Prediction means predicting the most likely word or phrase that will come next in a sentence or text. It is like having an inbuilt feature on an application that suggests the next word as you type or speak. The Next Word Prediction Models are used in applications like messaging apps, search engines, virtual assistants, and autocorrect features on smartphones. "
   ]
  },
  {
   "cell_type": "code",
   "execution_count": 1,
   "id": "f4951114",
   "metadata": {},
   "outputs": [],
   "source": [
    "import numpy as np\n",
    "import tensorflow as tf\n",
    "from tensorflow.keras.preprocessing.text import Tokenizer\n",
    "from tensorflow.keras.preprocessing.sequence import pad_sequences\n",
    "from tensorflow.keras.models import Sequential\n",
    "from tensorflow.keras.layers import Embedding, LSTM, Dense\n"
   ]
  },
  {
   "cell_type": "code",
   "execution_count": 2,
   "id": "2b574bd9",
   "metadata": {},
   "outputs": [],
   "source": [
    "#read the text file\n",
    "with open(\"C:/Users/Aqsa/OneDrive/Desktop/project/archive (5)/sherlock/dyin.txt\", 'r', encoding='utf-8') as file:\n",
    "          text= file.read()"
   ]
  },
  {
   "cell_type": "markdown",
   "id": "24f7cde1",
   "metadata": {},
   "source": [
    "Now let's tokenize the text to create a sequence of words:"
   ]
  },
  {
   "cell_type": "code",
   "execution_count": 3,
   "id": "3d6af0ed",
   "metadata": {},
   "outputs": [],
   "source": [
    "tokenizer = Tokenizer()\n",
    "tokenizer.fit_on_texts([text])\n",
    "total_words = len(tokenizer.word_index) +1"
   ]
  },
  {
   "cell_type": "markdown",
   "id": "c0e98df8",
   "metadata": {},
   "source": [
    "In the above code, the text is tokenized, which means it is divided into individual words or tokens. The ‘Tokenizer’ object is created, which will handle the tokenization process. The ‘fit_on_texts’ method of the tokenizer is called, passing the ‘text’ as input. This method analyzes the text and builds a vocabulary of unique words, assigning each word a numerical index. The ‘total_words’ variable is then assigned the value of the length of the word index plus one, representing the total number of distinct words in the text."
   ]
  },
  {
   "cell_type": "markdown",
   "id": "5e504ad6",
   "metadata": {},
   "source": [
    "Now let's create input-output pairs by splitting the text into sequence of tokens and forming n-grams from the sequences:"
   ]
  },
  {
   "cell_type": "code",
   "execution_count": 4,
   "id": "61399d0c",
   "metadata": {},
   "outputs": [],
   "source": [
    "input_sequences = []\n",
    "for line in text.split('\\n'):\n",
    "    token_list = tokenizer.texts_to_sequences([line])[0]\n",
    "    for i in range(1, len(token_list)):\n",
    "        n_gram_sequence = token_list[:1+1]\n",
    "        input_sequences.append(n_gram_sequence)"
   ]
  },
  {
   "cell_type": "markdown",
   "id": "252f8aef",
   "metadata": {},
   "source": [
    "In the above code, the text data is split into lines using the ‘\\n’ character as a delimiter. For each line in the text, the ‘texts_to_sequences’ method of the tokenizer is used to convert the line into a sequence of numerical tokens based on the previously created vocabulary. The resulting token list is then iterated over using a for loop. For each iteration, a subsequence, or n-gram, of tokens is extracted, ranging from the beginning of the token list up to the current index ‘i’."
   ]
  },
  {
   "cell_type": "markdown",
   "id": "4f4d716a",
   "metadata": {},
   "source": [
    "This n-gram sequence represents the input context, with the last token being the target or predicted word. This n-gram sequence is then appended to the ‘input_sequences’ list. This process is repeated for all lines in the text, generating multiple input-output sequences that will be used for training the next word prediction model."
   ]
  },
  {
   "cell_type": "markdown",
   "id": "f80d8b91",
   "metadata": {},
   "source": [
    "Now let's pad the input sequences to have equal length:"
   ]
  },
  {
   "cell_type": "code",
   "execution_count": 5,
   "id": "e4dbc474",
   "metadata": {},
   "outputs": [],
   "source": [
    "max_sequence_len = max([len(seq) for seq in input_sequences])\n",
    "input_sequences = np.array(pad_sequences(input_sequences, maxlen= max_sequence_len, padding=\"pre\"))"
   ]
  },
  {
   "cell_type": "markdown",
   "id": "895694e8",
   "metadata": {},
   "source": [
    "In the above code, the input sequences are padded to ensure all sequences have the same length. The variable ‘max_sequence_len’ is assigned the maximum length among all the input sequences. The ‘pad_sequences’ function is used to pad or truncate the input sequences to match this maximum length."
   ]
  },
  {
   "cell_type": "markdown",
   "id": "f63e549f",
   "metadata": {},
   "source": [
    "The ‘pad_sequences’ function takes the input_sequences list, sets the maximum length to ‘max_sequence_len’, and specifies that the padding should be added at the beginning of each sequence using the ‘padding=pre’ argument. Finally, the input sequences are converted into a numpy array to facilitate further processing."
   ]
  },
  {
   "cell_type": "markdown",
   "id": "bb880b74",
   "metadata": {},
   "source": [
    "Now let's split the sequences into input and output:"
   ]
  },
  {
   "cell_type": "code",
   "execution_count": 6,
   "id": "4a7352d4",
   "metadata": {},
   "outputs": [],
   "source": [
    "X = input_sequences[:, :-1]\n",
    "y = input_sequences[:, -1]"
   ]
  },
  {
   "cell_type": "markdown",
   "id": "54fce463",
   "metadata": {},
   "source": [
    "In the above code, the input sequences are split into two arrays, ‘X’ and ‘y’, to create the input and output for training the next word prediction model. The ‘X’ array is assigned the values of all rows in the ‘input_sequences’ array except for the last column. It means that ‘X’ contains all the tokens in each sequence except for the last one, representing the input context.\n",
    "On the other hand, the ‘y’ array is assigned the values of the last column in the ‘input_sequences’ array, which represents the target or predicted word."
   ]
  },
  {
   "cell_type": "markdown",
   "id": "e7577a73",
   "metadata": {},
   "source": [
    "Now let's convert the output to one-hot encode vectors:"
   ]
  },
  {
   "cell_type": "code",
   "execution_count": 7,
   "id": "79b9884b",
   "metadata": {},
   "outputs": [],
   "source": [
    "y=np.array(tf.keras.utils.to_categorical(y, num_classes=total_words))"
   ]
  },
  {
   "cell_type": "markdown",
   "id": "776ed77f",
   "metadata": {},
   "source": [
    "In the above code, we are converting the output array into a suitable format for training a model, where each target word is represented as a binary vector."
   ]
  },
  {
   "cell_type": "markdown",
   "id": "24aa0597",
   "metadata": {},
   "source": [
    "Now lets build a Neural Network architecture to train the model:"
   ]
  },
  {
   "cell_type": "code",
   "execution_count": 8,
   "id": "1e445f85",
   "metadata": {},
   "outputs": [
    {
     "name": "stdout",
     "output_type": "stream",
     "text": [
      "Model: \"sequential\"\n",
      "_________________________________________________________________\n",
      " Layer (type)                Output Shape              Param #   \n",
      "=================================================================\n",
      " embedding (Embedding)       (None, 1, 100)            144200    \n",
      "                                                                 \n",
      " lstm (LSTM)                 (None, 150)               150600    \n",
      "                                                                 \n",
      " dense (Dense)               (None, 1442)              217742    \n",
      "                                                                 \n",
      "=================================================================\n",
      "Total params: 512,542\n",
      "Trainable params: 512,542\n",
      "Non-trainable params: 0\n",
      "_________________________________________________________________\n",
      "None\n"
     ]
    }
   ],
   "source": [
    "model = Sequential()\n",
    "model.add(Embedding(total_words, 100, input_length=max_sequence_len-1))\n",
    "model.add(LSTM(150))\n",
    "model.add(Dense(total_words, activation='softmax'))\n",
    "print(model.summary())"
   ]
  },
  {
   "cell_type": "markdown",
   "id": "fd9546b4",
   "metadata": {},
   "source": [
    "The code above defines the model architecture for the next word prediction model. The ‘Sequential’ model is created, which represents a linear stack of layers. The first layer added to the model is the ‘Embedding’ layer, which is responsible for converting the input sequences into dense vectors of fixed size. It takes three arguments:\n",
    "\n",
    "1. ‘total_words’, which represents the total number of distinct words in the vocabulary; \n",
    "2. ‘100’, which denotes the dimensionality of the word embeddings; \n",
    "3. and ‘input_length’, which specifies the length of the input sequences."
   ]
  },
  {
   "cell_type": "markdown",
   "id": "60e3ac1b",
   "metadata": {},
   "source": [
    "The next layer added is the ‘LSTM’ layer, a type of recurrent neural network (RNN) layer designed for capturing sequential dependencies in the data. It has 150 units, which means it will learn 150 internal representations or memory cells.\n",
    "\n",
    "Finally, the ‘Dense’ layer is added, which is a fully connected layer that produces the output predictions. It has ‘total_words’ units and uses the ‘softmax’ activation function to convert the predicted scores into probabilities, indicating the likelihood of each word being the next one in the sequence."
   ]
  },
  {
   "cell_type": "markdown",
   "id": "06ad22f6",
   "metadata": {},
   "source": [
    "Now let's compile and train the model:"
   ]
  },
  {
   "cell_type": "code",
   "execution_count": 9,
   "id": "087e961c",
   "metadata": {},
   "outputs": [
    {
     "name": "stdout",
     "output_type": "stream",
     "text": [
      "Epoch 1/100\n",
      "168/168 [==============================] - 6s 9ms/step - loss: 6.1507 - accuracy: 0.0649\n",
      "Epoch 2/100\n",
      "168/168 [==============================] - 1s 9ms/step - loss: 4.7337 - accuracy: 0.0573\n",
      "Epoch 3/100\n",
      "168/168 [==============================] - 1s 9ms/step - loss: 4.1970 - accuracy: 0.1295\n",
      "Epoch 4/100\n",
      "168/168 [==============================] - 1s 9ms/step - loss: 3.0725 - accuracy: 0.3135\n",
      "Epoch 5/100\n",
      "168/168 [==============================] - 1s 9ms/step - loss: 1.8391 - accuracy: 0.5560\n",
      "Epoch 6/100\n",
      "168/168 [==============================] - 1s 9ms/step - loss: 1.3312 - accuracy: 0.5911\n",
      "Epoch 7/100\n",
      "168/168 [==============================] - 1s 9ms/step - loss: 1.1842 - accuracy: 0.5928\n",
      "Epoch 8/100\n",
      "168/168 [==============================] - 1s 9ms/step - loss: 1.1292 - accuracy: 0.5944\n",
      "Epoch 9/100\n",
      "168/168 [==============================] - 2s 9ms/step - loss: 1.1007 - accuracy: 0.6002\n",
      "Epoch 10/100\n",
      "168/168 [==============================] - 2s 9ms/step - loss: 1.0841 - accuracy: 0.5985\n",
      "Epoch 11/100\n",
      "168/168 [==============================] - 1s 9ms/step - loss: 1.0709 - accuracy: 0.5985\n",
      "Epoch 12/100\n",
      "168/168 [==============================] - 1s 9ms/step - loss: 1.0634 - accuracy: 0.5995\n",
      "Epoch 13/100\n",
      "168/168 [==============================] - 1s 9ms/step - loss: 1.0577 - accuracy: 0.5985\n",
      "Epoch 14/100\n",
      "168/168 [==============================] - 1s 9ms/step - loss: 1.0543 - accuracy: 0.6002\n",
      "Epoch 15/100\n",
      "168/168 [==============================] - 1s 9ms/step - loss: 1.0532 - accuracy: 0.5969\n",
      "Epoch 16/100\n",
      "168/168 [==============================] - 1s 9ms/step - loss: 1.0459 - accuracy: 0.5971\n",
      "Epoch 17/100\n",
      "168/168 [==============================] - 1s 9ms/step - loss: 1.0483 - accuracy: 0.5972\n",
      "Epoch 18/100\n",
      "168/168 [==============================] - 1s 9ms/step - loss: 1.0421 - accuracy: 0.5971\n",
      "Epoch 19/100\n",
      "168/168 [==============================] - 1s 9ms/step - loss: 1.0442 - accuracy: 0.5963\n",
      "Epoch 20/100\n",
      "168/168 [==============================] - 1s 9ms/step - loss: 1.0429 - accuracy: 0.5982\n",
      "Epoch 21/100\n",
      "168/168 [==============================] - 1s 9ms/step - loss: 1.0419 - accuracy: 0.5971\n",
      "Epoch 22/100\n",
      "168/168 [==============================] - 1s 9ms/step - loss: 1.0374 - accuracy: 0.6032\n",
      "Epoch 23/100\n",
      "168/168 [==============================] - 1s 9ms/step - loss: 1.0369 - accuracy: 0.5933\n",
      "Epoch 24/100\n",
      "168/168 [==============================] - 2s 9ms/step - loss: 1.0395 - accuracy: 0.5944\n",
      "Epoch 25/100\n",
      "168/168 [==============================] - 1s 9ms/step - loss: 1.0348 - accuracy: 0.5987\n",
      "Epoch 26/100\n",
      "168/168 [==============================] - 1s 9ms/step - loss: 1.0319 - accuracy: 0.6034\n",
      "Epoch 27/100\n",
      "168/168 [==============================] - 1s 9ms/step - loss: 1.0325 - accuracy: 0.5993\n",
      "Epoch 28/100\n",
      "168/168 [==============================] - 1s 9ms/step - loss: 1.0331 - accuracy: 0.5963\n",
      "Epoch 29/100\n",
      "168/168 [==============================] - 1s 9ms/step - loss: 1.0324 - accuracy: 0.6000\n",
      "Epoch 30/100\n",
      "168/168 [==============================] - 1s 9ms/step - loss: 1.0311 - accuracy: 0.5941\n",
      "Epoch 31/100\n",
      "168/168 [==============================] - 2s 9ms/step - loss: 1.0310 - accuracy: 0.6027\n",
      "Epoch 32/100\n",
      "168/168 [==============================] - 2s 10ms/step - loss: 1.0313 - accuracy: 0.6004\n",
      "Epoch 33/100\n",
      "168/168 [==============================] - 2s 10ms/step - loss: 1.0299 - accuracy: 0.6015\n",
      "Epoch 34/100\n",
      "168/168 [==============================] - 2s 9ms/step - loss: 1.0283 - accuracy: 0.6015\n",
      "Epoch 35/100\n",
      "168/168 [==============================] - 1s 9ms/step - loss: 1.0327 - accuracy: 0.5915\n",
      "Epoch 36/100\n",
      "168/168 [==============================] - 1s 9ms/step - loss: 1.0295 - accuracy: 0.6032\n",
      "Epoch 37/100\n",
      "168/168 [==============================] - 2s 9ms/step - loss: 1.0292 - accuracy: 0.5969\n",
      "Epoch 38/100\n",
      "168/168 [==============================] - 1s 9ms/step - loss: 1.0255 - accuracy: 0.5989\n",
      "Epoch 39/100\n",
      "168/168 [==============================] - 2s 10ms/step - loss: 1.0283 - accuracy: 0.5974\n",
      "Epoch 40/100\n",
      "168/168 [==============================] - 2s 9ms/step - loss: 1.0280 - accuracy: 0.5989\n",
      "Epoch 41/100\n",
      "168/168 [==============================] - 2s 9ms/step - loss: 1.0249 - accuracy: 0.6038\n",
      "Epoch 42/100\n",
      "168/168 [==============================] - 1s 9ms/step - loss: 1.0237 - accuracy: 0.6036\n",
      "Epoch 43/100\n",
      "168/168 [==============================] - 1s 9ms/step - loss: 1.0256 - accuracy: 0.6015\n",
      "Epoch 44/100\n",
      "168/168 [==============================] - 2s 10ms/step - loss: 1.0263 - accuracy: 0.5967\n",
      "Epoch 45/100\n",
      "168/168 [==============================] - 2s 9ms/step - loss: 1.0235 - accuracy: 0.6019\n",
      "Epoch 46/100\n",
      "168/168 [==============================] - 2s 9ms/step - loss: 1.0265 - accuracy: 0.6010\n",
      "Epoch 47/100\n",
      "168/168 [==============================] - 2s 9ms/step - loss: 1.0270 - accuracy: 0.5969\n",
      "Epoch 48/100\n",
      "168/168 [==============================] - 2s 9ms/step - loss: 1.0245 - accuracy: 0.6068\n",
      "Epoch 49/100\n",
      "168/168 [==============================] - 2s 10ms/step - loss: 1.0260 - accuracy: 0.5976\n",
      "Epoch 50/100\n",
      "168/168 [==============================] - 2s 10ms/step - loss: 1.0252 - accuracy: 0.5989\n",
      "Epoch 51/100\n",
      "168/168 [==============================] - 2s 10ms/step - loss: 1.0261 - accuracy: 0.6006\n",
      "Epoch 52/100\n",
      "168/168 [==============================] - 2s 10ms/step - loss: 1.0244 - accuracy: 0.5967\n",
      "Epoch 53/100\n",
      "168/168 [==============================] - 2s 10ms/step - loss: 1.0226 - accuracy: 0.5980\n",
      "Epoch 54/100\n",
      "168/168 [==============================] - 2s 10ms/step - loss: 1.0244 - accuracy: 0.6021\n",
      "Epoch 55/100\n",
      "168/168 [==============================] - 2s 10ms/step - loss: 1.0227 - accuracy: 0.5969\n",
      "Epoch 56/100\n",
      "168/168 [==============================] - 2s 9ms/step - loss: 1.0237 - accuracy: 0.6021\n",
      "Epoch 57/100\n",
      "168/168 [==============================] - 2s 10ms/step - loss: 1.0225 - accuracy: 0.5967\n",
      "Epoch 58/100\n",
      "168/168 [==============================] - 2s 9ms/step - loss: 1.0200 - accuracy: 0.6036\n",
      "Epoch 59/100\n",
      "168/168 [==============================] - 1s 9ms/step - loss: 1.0223 - accuracy: 0.6002\n",
      "Epoch 60/100\n",
      "168/168 [==============================] - 1s 9ms/step - loss: 1.0210 - accuracy: 0.5987\n",
      "Epoch 61/100\n",
      "168/168 [==============================] - 2s 9ms/step - loss: 1.0220 - accuracy: 0.6013\n",
      "Epoch 62/100\n",
      "168/168 [==============================] - 1s 9ms/step - loss: 1.0201 - accuracy: 0.6008\n",
      "Epoch 63/100\n",
      "168/168 [==============================] - 2s 9ms/step - loss: 1.0186 - accuracy: 0.6045\n",
      "Epoch 64/100\n",
      "168/168 [==============================] - 2s 9ms/step - loss: 1.0193 - accuracy: 0.6043\n",
      "Epoch 65/100\n",
      "168/168 [==============================] - 1s 9ms/step - loss: 1.0218 - accuracy: 0.6013\n",
      "Epoch 66/100\n",
      "168/168 [==============================] - 2s 9ms/step - loss: 1.0200 - accuracy: 0.6056\n",
      "Epoch 67/100\n",
      "168/168 [==============================] - 1s 9ms/step - loss: 1.0192 - accuracy: 0.6032\n",
      "Epoch 68/100\n",
      "168/168 [==============================] - 1s 9ms/step - loss: 1.0183 - accuracy: 0.6053\n",
      "Epoch 69/100\n",
      "168/168 [==============================] - 2s 10ms/step - loss: 1.0176 - accuracy: 0.6000\n",
      "Epoch 70/100\n",
      "168/168 [==============================] - 2s 9ms/step - loss: 1.0186 - accuracy: 0.6015\n",
      "Epoch 71/100\n",
      "168/168 [==============================] - 2s 9ms/step - loss: 1.0200 - accuracy: 0.6008\n",
      "Epoch 72/100\n",
      "168/168 [==============================] - 2s 9ms/step - loss: 1.0166 - accuracy: 0.6075\n",
      "Epoch 73/100\n",
      "168/168 [==============================] - 2s 9ms/step - loss: 1.0213 - accuracy: 0.6032\n",
      "Epoch 74/100\n",
      "168/168 [==============================] - 2s 9ms/step - loss: 1.0169 - accuracy: 0.6051\n",
      "Epoch 75/100\n",
      "168/168 [==============================] - 2s 9ms/step - loss: 1.0174 - accuracy: 0.5974\n",
      "Epoch 76/100\n",
      "168/168 [==============================] - 1s 9ms/step - loss: 1.0200 - accuracy: 0.5967\n",
      "Epoch 77/100\n",
      "168/168 [==============================] - 1s 9ms/step - loss: 1.0172 - accuracy: 0.6040\n",
      "Epoch 78/100\n",
      "168/168 [==============================] - 1s 9ms/step - loss: 1.0170 - accuracy: 0.6025\n",
      "Epoch 79/100\n",
      "168/168 [==============================] - 2s 9ms/step - loss: 1.0152 - accuracy: 0.6030\n",
      "Epoch 80/100\n",
      "168/168 [==============================] - 2s 9ms/step - loss: 1.0173 - accuracy: 0.6017\n",
      "Epoch 81/100\n",
      "168/168 [==============================] - 1s 9ms/step - loss: 1.0177 - accuracy: 0.6047\n",
      "Epoch 82/100\n",
      "168/168 [==============================] - 2s 9ms/step - loss: 1.0179 - accuracy: 0.5961\n",
      "Epoch 83/100\n",
      "168/168 [==============================] - 1s 9ms/step - loss: 1.0169 - accuracy: 0.6017\n",
      "Epoch 84/100\n",
      "168/168 [==============================] - 2s 9ms/step - loss: 1.0165 - accuracy: 0.6008\n",
      "Epoch 85/100\n",
      "168/168 [==============================] - 1s 9ms/step - loss: 1.0176 - accuracy: 0.5997\n",
      "Epoch 86/100\n",
      "168/168 [==============================] - 1s 9ms/step - loss: 1.0185 - accuracy: 0.6019\n",
      "Epoch 87/100\n",
      "168/168 [==============================] - 2s 9ms/step - loss: 1.0158 - accuracy: 0.5991\n",
      "Epoch 88/100\n",
      "168/168 [==============================] - 1s 9ms/step - loss: 1.0151 - accuracy: 0.6034\n",
      "Epoch 89/100\n",
      "168/168 [==============================] - 1s 9ms/step - loss: 1.0167 - accuracy: 0.6053\n",
      "Epoch 90/100\n",
      "168/168 [==============================] - 1s 8ms/step - loss: 1.0159 - accuracy: 0.6036\n",
      "Epoch 91/100\n",
      "168/168 [==============================] - 1s 9ms/step - loss: 1.0168 - accuracy: 0.6025\n",
      "Epoch 92/100\n",
      "168/168 [==============================] - 1s 8ms/step - loss: 1.0161 - accuracy: 0.6010\n",
      "Epoch 93/100\n",
      "168/168 [==============================] - 1s 8ms/step - loss: 1.0169 - accuracy: 0.6027\n",
      "Epoch 94/100\n",
      "168/168 [==============================] - 1s 8ms/step - loss: 1.0149 - accuracy: 0.6004\n",
      "Epoch 95/100\n",
      "168/168 [==============================] - 1s 9ms/step - loss: 1.0158 - accuracy: 0.5965\n",
      "Epoch 96/100\n",
      "168/168 [==============================] - 1s 9ms/step - loss: 1.0160 - accuracy: 0.6049\n",
      "Epoch 97/100\n",
      "168/168 [==============================] - 1s 9ms/step - loss: 1.0168 - accuracy: 0.5974\n",
      "Epoch 98/100\n",
      "168/168 [==============================] - 1s 9ms/step - loss: 1.0147 - accuracy: 0.6023\n",
      "Epoch 99/100\n",
      "168/168 [==============================] - 1s 9ms/step - loss: 1.0140 - accuracy: 0.6028\n",
      "Epoch 100/100\n",
      "168/168 [==============================] - 1s 9ms/step - loss: 1.0153 - accuracy: 0.5974\n"
     ]
    },
    {
     "data": {
      "text/plain": [
       "<keras.callbacks.History at 0x24334226d90>"
      ]
     },
     "execution_count": 9,
     "metadata": {},
     "output_type": "execute_result"
    }
   ],
   "source": [
    "model.compile(loss='categorical_crossentropy', optimizer='adam', metrics=['accuracy'])\n",
    "model.fit(X, y, epochs=100, verbose=1)"
   ]
  },
  {
   "cell_type": "markdown",
   "id": "d8ff3bc6",
   "metadata": {},
   "source": [
    "In the above code, the model is being compiled and trained. The ‘compile’ method configures the model for training. The ‘loss’ parameter is set to ‘categorical_crossentropy’, a commonly used loss function for multi-class classification problems. The ‘optimizer’ parameter is set to ‘adam’, an optimization algorithm that adapts the learning rate during training."
   ]
  },
  {
   "cell_type": "markdown",
   "id": "6600d1a6",
   "metadata": {},
   "source": [
    "The ‘metrics’ parameter is set to ‘accuracy’ to monitor the accuracy during training. After compiling the model, the ‘fit’ method is called to train the model on the input sequences ‘X’ and the corresponding output ‘y’. The ‘epochs’ parameter specifies the number of times the training process will iterate over the entire dataset. The ‘verbose’ parameter is set to ‘1’ to display the training process.\n",
    "\n",
    "Once the code is executed, here’s how we can generate the next word predictions using our model:"
   ]
  },
  {
   "cell_type": "code",
   "execution_count": 10,
   "id": "8cefcfe4",
   "metadata": {},
   "outputs": [
    {
     "name": "stdout",
     "output_type": "stream",
     "text": [
      "1/1 [==============================] - 1s 1s/step\n",
      "1/1 [==============================] - 0s 40ms/step\n",
      "1/1 [==============================] - 0s 41ms/step\n",
      "1/1 [==============================] - 0s 39ms/step\n",
      "what about three days spring yes\n"
     ]
    }
   ],
   "source": [
    "seed_text = \"what about\"\n",
    "next_words = 4\n",
    "\n",
    "for _ in range(next_words):\n",
    "    token_list = tokenizer.texts_to_sequences([seed_text])[0]\n",
    "    token_list = pad_sequences([token_list], maxlen=max_sequence_len-1, padding='pre')\n",
    "    predicted = np.argmax(model.predict(token_list), axis=-1)\n",
    "    output_word = \"\"\n",
    "    for word, index in tokenizer.word_index.items():\n",
    "        if index == predicted:\n",
    "            output_word = word\n",
    "            break\n",
    "    seed_text += \" \" + output_word\n",
    "\n",
    "print(seed_text)"
   ]
  },
  {
   "cell_type": "markdown",
   "id": "3f168234",
   "metadata": {},
   "source": [
    "The above code generates the next word predictions based on a given seed text. The ‘seed_text’ variable holds the initial text. The ‘next_words’ variable determines the number of predictions to be generated. Inside the for loop, the ‘seed_text’ is converted into a sequence of tokens using the tokenizer. The token sequence is padded to match the maximum sequence length.\n",
    "\n",
    "The model predicts the next word by calling the ‘predict’ method on the model with the padded token sequence. The predicted word is obtained by finding the word with the highest probability score using ‘np.argmax’. Then, the predicted word is appended to the ‘seed_text’, and the process is repeated for the desired number of ‘next_words’. Finally, the ‘seed_text’ is printed, which contains the initial text followed by the generated predictions."
   ]
  },
  {
   "cell_type": "code",
   "execution_count": null,
   "id": "28fb463d",
   "metadata": {},
   "outputs": [],
   "source": []
  }
 ],
 "metadata": {
  "kernelspec": {
   "display_name": "Python 3 (ipykernel)",
   "language": "python",
   "name": "python3"
  },
  "language_info": {
   "codemirror_mode": {
    "name": "ipython",
    "version": 3
   },
   "file_extension": ".py",
   "mimetype": "text/x-python",
   "name": "python",
   "nbconvert_exporter": "python",
   "pygments_lexer": "ipython3",
   "version": "3.9.12"
  }
 },
 "nbformat": 4,
 "nbformat_minor": 5
}
